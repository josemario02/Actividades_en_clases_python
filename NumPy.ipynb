{
  "nbformat": 4,
  "nbformat_minor": 0,
  "metadata": {
    "colab": {
      "provenance": [],
      "authorship_tag": "ABX9TyOn41fQl34Khxpa4bPZEM+F",
      "include_colab_link": true
    },
    "kernelspec": {
      "name": "python3",
      "display_name": "Python 3"
    },
    "language_info": {
      "name": "python"
    }
  },
  "cells": [
    {
      "cell_type": "markdown",
      "metadata": {
        "id": "view-in-github",
        "colab_type": "text"
      },
      "source": [
        "<a href=\"https://colab.research.google.com/github/josemario02/Actividades_en_clases_python/blob/main/NumPy.ipynb\" target=\"_parent\"><img src=\"https://colab.research.google.com/assets/colab-badge.svg\" alt=\"Open In Colab\"/></a>"
      ]
    },
    {
      "cell_type": "code",
      "execution_count": null,
      "metadata": {
        "id": "Ve4MwrDKDMvD"
      },
      "outputs": [],
      "source": [
        "import numpy as np\n",
        "\n",
        "edades = [18, 17, 17, 18, 17, 24, 16, 18, 17, 23, 19]\n",
        "edades_array = np.array(edades)\n",
        "#print(edades)\n",
        "#print(edades_array)\n",
        "#print(edades_array)\n",
        "#\n",
        "\n"
      ]
    }
  ]
}