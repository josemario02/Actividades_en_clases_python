{
  "nbformat": 4,
  "nbformat_minor": 0,
  "metadata": {
    "colab": {
      "provenance": [],
      "authorship_tag": "ABX9TyNk/ZM9aXseHu6EtCRLmpOb",
      "include_colab_link": true
    },
    "kernelspec": {
      "name": "python3",
      "display_name": "Python 3"
    },
    "language_info": {
      "name": "python"
    }
  },
  "cells": [
    {
      "cell_type": "markdown",
      "metadata": {
        "id": "view-in-github",
        "colab_type": "text"
      },
      "source": [
        "<a href=\"https://colab.research.google.com/github/josemario02/Actividades_en_clases_python/blob/main/juego_memoria.ipynb\" target=\"_parent\"><img src=\"https://colab.research.google.com/assets/colab-badge.svg\" alt=\"Open In Colab\"/></a>"
      ]
    },
    {
      "cell_type": "code",
      "source": [
        "import random\n",
        "import string\n",
        "import time\n",
        "from IPython.display import clear_output\n",
        "\n",
        "def generate_grid(n):\n",
        "    values = list(string.ascii_letters + string.digits + \"@#$\") * (n * n // 4)\n",
        "    random.shuffle(values)\n",
        "    return [[random.choice(values) for _ in range(n)] for _ in range(n)]\n",
        "\n",
        "def display_grid(grid):\n",
        "    print(\"\\n\".join(\" \".join(row) for row in grid))\n",
        "\n",
        "def hide_value(grid, value):\n",
        "    for row in grid:\n",
        "        if value in row:\n",
        "            row[row.index(value)] = \"*\"\n",
        "            break\n",
        "\n",
        "def reveal_value(grid, value):\n",
        "    for row in grid:\n",
        "        if \"*\" in row:\n",
        "            row[row.index(\"*\")] = value\n",
        "\n",
        "def get_time_limit(n):\n",
        "    return max(3, 3 + 0.5 * (n - 3))\n",
        "\n",
        "def play_game():\n",
        "    n = int(input(\"Ingrese el tamaño de la cuadrícula (n*n): \"))\n",
        "    grid = generate_grid(n)\n",
        "\n",
        "    print(\"Memoria de Valores\\n\")\n",
        "    display_grid(grid)\n",
        "    time_limit = get_time_limit(n)\n",
        "    time.sleep(time_limit)\n",
        "    clear_output(wait=True)\n",
        "    hidden_value = random.choice(grid[0])\n",
        "    hide_value(grid, hidden_value)\n",
        "\n",
        "    print(\"\\nEncuentra el valor oculto:\\n\")\n",
        "    display_grid(grid)\n",
        "    guess = input(\"\\nTu respuesta: \")\n",
        "    reveal_value(grid, hidden_value)\n",
        "    print(\"¡Correcto! Has encontrado el valor oculto.\" if guess == hidden_value else f\"Incorrecto. El valor era {hidden_value}.\")\n",
        "\n",
        "def main():\n",
        "    while True:\n",
        "        play_game()\n",
        "        if input(\"¿Jugar de nuevo? (s/n): \").lower() != \"s\":\n",
        "            break\n",
        "\n",
        "if __name__ == \"__main__\":\n",
        "    main()\n"
      ],
      "metadata": {
        "id": "d4hJZQFAgyZW"
      },
      "execution_count": null,
      "outputs": []
    }
  ]
}